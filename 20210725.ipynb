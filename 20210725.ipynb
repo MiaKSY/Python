{
 "cells": [
  {
   "cell_type": "code",
   "execution_count": null,
   "id": "bec22fb2",
   "metadata": {},
   "outputs": [],
   "source": [
    "# 크롤링 라이브러리 임포트\n",
    "from urllib.request import urlopen\n",
    "from bs4 import BeautifulSoup\n",
    "import pandas as pd"
   ]
  },
  {
   "cell_type": "code",
   "execution_count": null,
   "id": "0062a611",
   "metadata": {},
   "outputs": [],
   "source": [
    "html = urlopen(\"https://auto.naver.com/company/main.nhn?mnfcoNo=23&modelType=OS&order=0&importYn=Y&lnchYY=-1&saleType=0&page=1\")\n",
    "bsObject = BeautifulSoup(html, \"html.parser\")"
   ]
  },
  {
   "cell_type": "code",
   "execution_count": null,
   "id": "0be661cd",
   "metadata": {},
   "outputs": [],
   "source": [
    "bsObject.find_all(\"span\",{\"class\":\"box\"})"
   ]
  },
  {
   "cell_type": "code",
   "execution_count": null,
   "id": "1fd460b1",
   "metadata": {},
   "outputs": [],
   "source": [
    "carNameList = []\n",
    "carName = bsObject.find_all(\"span\",{\"class\":\"box\"})"
   ]
  },
  {
   "cell_type": "code",
   "execution_count": null,
   "id": "e4603a84",
   "metadata": {},
   "outputs": [],
   "source": [
    "carName[0].find(\"strong\").text"
   ]
  },
  {
   "cell_type": "code",
   "execution_count": null,
   "id": "a6235496",
   "metadata": {},
   "outputs": [],
   "source": [
    "len(carName)"
   ]
  },
  {
   "cell_type": "code",
   "execution_count": null,
   "id": "557a564f",
   "metadata": {},
   "outputs": [],
   "source": [
    "for i in range(len(carName)):\n",
    "    carNameTest = carName[i].find(\"strong\").text\n",
    "    carNameList.append(carNameTest)"
   ]
  },
  {
   "cell_type": "code",
   "execution_count": null,
   "id": "bb0f0d1f",
   "metadata": {
    "scrolled": true
   },
   "outputs": [],
   "source": [
    "carNameList"
   ]
  },
  {
   "cell_type": "code",
   "execution_count": null,
   "id": "dd412e85",
   "metadata": {},
   "outputs": [],
   "source": [
    "len(carNameList)"
   ]
  },
  {
   "cell_type": "code",
   "execution_count": null,
   "id": "f57ca352",
   "metadata": {},
   "outputs": [],
   "source": [
    "bsObject.find_all(\"li\",{\"class\",\"price new\"})"
   ]
  },
  {
   "cell_type": "code",
   "execution_count": null,
   "id": "ba7eee5a",
   "metadata": {
    "scrolled": true
   },
   "outputs": [],
   "source": [
    "carPriceList = []\n",
    "carPrice = bsObject.find_all(\"li\",{\"class\",\"price new\"})"
   ]
  },
  {
   "cell_type": "code",
   "execution_count": null,
   "id": "aade3d89",
   "metadata": {},
   "outputs": [],
   "source": [
    "carPrice[0].find(\"span\",{\"class\",\"cont\"}).text"
   ]
  },
  {
   "cell_type": "code",
   "execution_count": null,
   "id": "c81a572f",
   "metadata": {},
   "outputs": [],
   "source": [
    "for i in range(len(carPrice)):\n",
    "    carPriceTest = carPrice[i].find(\"span\",{\"class\",\"cont\"}).text\n",
    "    carPriceList.append(carPriceTest)"
   ]
  },
  {
   "cell_type": "code",
   "execution_count": null,
   "id": "e2d84898",
   "metadata": {
    "scrolled": true
   },
   "outputs": [],
   "source": [
    "carPriceList"
   ]
  },
  {
   "cell_type": "code",
   "execution_count": null,
   "id": "9a42b032",
   "metadata": {},
   "outputs": [],
   "source": [
    "len(carPriceList)"
   ]
  },
  {
   "cell_type": "code",
   "execution_count": null,
   "id": "0f82b159",
   "metadata": {},
   "outputs": [],
   "source": [
    "bsObject.find_all(\"li\",{\"class\",\"mileage\"})"
   ]
  },
  {
   "cell_type": "code",
   "execution_count": null,
   "id": "bd7bfd4d",
   "metadata": {},
   "outputs": [],
   "source": [
    "bsObject.find_all(\"span\",{\"class\",\"ell\"})"
   ]
  },
  {
   "cell_type": "code",
   "execution_count": null,
   "id": "1b6b6a7f",
   "metadata": {},
   "outputs": [],
   "source": [
    "bsObject.find_all(\"span\",{\"class\",\"en\"})"
   ]
  },
  {
   "cell_type": "code",
   "execution_count": null,
   "id": "a01bc88e",
   "metadata": {},
   "outputs": [],
   "source": [
    "carMileageList = []\n",
    "carMileage = bsObject.find_all(\"span\",{\"class\",\"en\"})"
   ]
  },
  {
   "cell_type": "code",
   "execution_count": null,
   "id": "e7470fb6",
   "metadata": {},
   "outputs": [],
   "source": [
    "carMileage[0].text"
   ]
  },
  {
   "cell_type": "code",
   "execution_count": null,
   "id": "4d1f53a1",
   "metadata": {},
   "outputs": [],
   "source": [
    "for i in range(len(carMileage)):\n",
    "    carMileageTest = carMileage[i].text\n",
    "    carMileageList.append(carMileageTest)"
   ]
  },
  {
   "cell_type": "code",
   "execution_count": null,
   "id": "13ce3065",
   "metadata": {
    "scrolled": true
   },
   "outputs": [],
   "source": [
    "carMileageList"
   ]
  },
  {
   "cell_type": "code",
   "execution_count": null,
   "id": "64bbbc30",
   "metadata": {},
   "outputs": [],
   "source": [
    "len(carMileageList)"
   ]
  },
  {
   "cell_type": "code",
   "execution_count": null,
   "id": "545d1312",
   "metadata": {},
   "outputs": [],
   "source": [
    "bsObject.find_all(\"span\",{\"class\",\"ell\"})"
   ]
  },
  {
   "cell_type": "code",
   "execution_count": null,
   "id": "4f1854ff",
   "metadata": {},
   "outputs": [],
   "source": [
    "CarEngine22 = bsObject.find_all(\"span\",{\"class\",\"ell\"})"
   ]
  },
  {
   "cell_type": "code",
   "execution_count": null,
   "id": "cefc517d",
   "metadata": {},
   "outputs": [],
   "source": [
    "CarEngine22[5].text"
   ]
  },
  {
   "cell_type": "code",
   "execution_count": null,
   "id": "f675e5f0",
   "metadata": {},
   "outputs": [],
   "source": [
    "CarEngine22[3].text.replace(\"\\t\",\"\").replace(\"\\r\",\"\").replace(\"\\n\",\"\")"
   ]
  },
  {
   "cell_type": "code",
   "execution_count": null,
   "id": "f25947af",
   "metadata": {},
   "outputs": [],
   "source": [
    "CarEngineList = []\n",
    "CarEngine = bsObject.find_all(\"span\",{\"class\",\"ell\"})"
   ]
  },
  {
   "cell_type": "code",
   "execution_count": null,
   "id": "bf4d0443",
   "metadata": {},
   "outputs": [],
   "source": [
    "for i in range(len(CarEngine)):\n",
    "    if i % 2 == 1:\n",
    "        CarEngineTest = CarEngine[i].text.replace(\"\\t\",\"\").replace(\"\\r\",\"\").replace(\"\\n\",\"\")\n",
    "        CarEngineList.append(CarEngineTest)"
   ]
  },
  {
   "cell_type": "code",
   "execution_count": null,
   "id": "a36c1bf9",
   "metadata": {
    "scrolled": true
   },
   "outputs": [],
   "source": [
    "CarEngineList"
   ]
  },
  {
   "cell_type": "code",
   "execution_count": null,
   "id": "6d71ab35",
   "metadata": {},
   "outputs": [],
   "source": [
    "len(CarEngineList)"
   ]
  },
  {
   "cell_type": "code",
   "execution_count": null,
   "id": "6946bb0e",
   "metadata": {},
   "outputs": [],
   "source": [
    "bsObject.find_all(\"span\",{\"class\",\"thmb\"})[0].find(\"img\").get(\"src\")"
   ]
  },
  {
   "cell_type": "code",
   "execution_count": null,
   "id": "e9364147",
   "metadata": {},
   "outputs": [],
   "source": [
    "CarImgSrcList = []\n",
    "CarImgSrc = bsObject.find_all(\"span\",{\"class\",\"thmb\"})"
   ]
  },
  {
   "cell_type": "code",
   "execution_count": null,
   "id": "dcf47472",
   "metadata": {},
   "outputs": [],
   "source": [
    "CarImgSrc[0].find(\"img\").get(\"src\")"
   ]
  },
  {
   "cell_type": "code",
   "execution_count": null,
   "id": "c9d38de9",
   "metadata": {},
   "outputs": [],
   "source": [
    "for i in range(len(CarImgSrc)):\n",
    "    CarImgSrcTest = CarImgSrc[i].find(\"img\").get(\"src\")\n",
    "    CarImgSrcList.append(CarImgSrcTest)"
   ]
  },
  {
   "cell_type": "code",
   "execution_count": null,
   "id": "3f6ee66b",
   "metadata": {},
   "outputs": [],
   "source": [
    "CarImgSrcList"
   ]
  },
  {
   "cell_type": "code",
   "execution_count": null,
   "id": "56bf7b21",
   "metadata": {},
   "outputs": [],
   "source": [
    "len(CarImgSrcList)"
   ]
  },
  {
   "cell_type": "code",
   "execution_count": null,
   "id": "b4741a9e",
   "metadata": {},
   "outputs": [],
   "source": [
    "bsObject.find_all(\"div\",{\"class\",\"model_ct\"})[0].find(\"img\").get(\"src\")"
   ]
  },
  {
   "cell_type": "code",
   "execution_count": null,
   "id": "e1c2bf07",
   "metadata": {
    "scrolled": true
   },
   "outputs": [],
   "source": [
    "len(bsObject.find_all(\"div\",{\"class\",\"model_ct\"}))"
   ]
  },
  {
   "cell_type": "code",
   "execution_count": null,
   "id": "0dd2ffa3",
   "metadata": {},
   "outputs": [],
   "source": [
    "carImageList = []\n",
    "carImage = bsObject.find_all(\"div\",{\"class\",\"model_ct\"})"
   ]
  },
  {
   "cell_type": "code",
   "execution_count": null,
   "id": "faad0d2b",
   "metadata": {},
   "outputs": [],
   "source": [
    "for i in range(len(carImage)):\n",
    "    carImageTest = carImage[i].find(\"img\").get(\"src\")\n",
    "    carImageList.append(carImageTest)"
   ]
  },
  {
   "cell_type": "code",
   "execution_count": null,
   "id": "2d882e5e",
   "metadata": {},
   "outputs": [],
   "source": [
    "carImageList"
   ]
  },
  {
   "cell_type": "code",
   "execution_count": null,
   "id": "bdfd6085",
   "metadata": {},
   "outputs": [],
   "source": [
    "len(carImageList)"
   ]
  },
  {
   "cell_type": "code",
   "execution_count": null,
   "id": "23de718b",
   "metadata": {},
   "outputs": [],
   "source": [
    "carBrandList = []\n",
    "for i in range(15):\n",
    "    carBrandList.append(\"BMW\")"
   ]
  },
  {
   "cell_type": "code",
   "execution_count": null,
   "id": "bdf473d0",
   "metadata": {},
   "outputs": [],
   "source": [
    "carBrandList"
   ]
  },
  {
   "cell_type": "code",
   "execution_count": null,
   "id": "c9c6368d",
   "metadata": {
    "scrolled": true
   },
   "outputs": [],
   "source": [
    "len(carBrandList)"
   ]
  },
  {
   "cell_type": "code",
   "execution_count": null,
   "id": "3ebedb1e",
   "metadata": {},
   "outputs": [],
   "source": [
    "carPriceList"
   ]
  },
  {
   "cell_type": "code",
   "execution_count": null,
   "id": "faaf46e7",
   "metadata": {},
   "outputs": [],
   "source": [
    "carPriceList[0].replace(\"억\",\"\").replace(\",\",\"\")"
   ]
  },
  {
   "cell_type": "code",
   "execution_count": null,
   "id": "90acbe42",
   "metadata": {},
   "outputs": [],
   "source": [
    "carPriceList[0].replace(\"억\",\"\").replace(\",\",\"\")[0:4]"
   ]
  },
  {
   "cell_type": "code",
   "execution_count": null,
   "id": "8a731e6c",
   "metadata": {},
   "outputs": [],
   "source": [
    "carPriceList[0].replace(\"억\",\"\").replace(\",\",\"\").find('~')"
   ]
  },
  {
   "cell_type": "code",
   "execution_count": null,
   "id": "fd2dacf4",
   "metadata": {},
   "outputs": [],
   "source": [
    "carPriceList[0].replace(\"억\",\"\").replace(\",\",\"\")[0:carPriceList[0].replace(\"억\",\"\").replace(\",\",\"\").find('~')]"
   ]
  },
  {
   "cell_type": "code",
   "execution_count": null,
   "id": "f2cd3ee4",
   "metadata": {},
   "outputs": [],
   "source": [
    "carGradeList = []\n",
    "for i in range(len(carPriceList)):\n",
    "    carGrade = carPriceList[i].replace(\"억\",\"\").replace(\",\",\"\")[0:carPriceList[i].replace(\"억\",\"\").replace(\",\",\"\").find('~')]\n",
    "    if int(carGrade) < 2000:\n",
    "        carGradeList.append('D')\n",
    "    elif int(carGrade) >= 2000 and int(carGrade) < 3000:\n",
    "        carGradeList.append('C')\n",
    "    elif int(carGrade) >= 3000 and int(carGrade) < 4000:\n",
    "        carGradeList.append('B')\n",
    "    elif int(carGrade) >= 4000:\n",
    "        carGradeList.append('A')\n",
    "    else:\n",
    "        carGradeList.append('등급정보 없음')"
   ]
  },
  {
   "cell_type": "code",
   "execution_count": null,
   "id": "dc4df568",
   "metadata": {},
   "outputs": [],
   "source": [
    "carGradeList"
   ]
  },
  {
   "cell_type": "code",
   "execution_count": null,
   "id": "dd570b86",
   "metadata": {},
   "outputs": [],
   "source": [
    "len(carGradeList)"
   ]
  },
  {
   "cell_type": "code",
   "execution_count": null,
   "id": "b326c7b4",
   "metadata": {},
   "outputs": [],
   "source": [
    "final = []\n",
    "final = {\n",
    "    \"자동차이름\":carNameList,\n",
    "    \"브랜드\":carBrandList,\n",
    "    \"가격\":carPriceList,\n",
    "    \"등급\":carGradeList,\n",
    "    \"엔진\":CarEngineList,\n",
    "    \"연비\":carMileageList,\n",
    "    \"이미지주소\":carImageList\n",
    "}"
   ]
  },
  {
   "cell_type": "code",
   "execution_count": null,
   "id": "ae31744a",
   "metadata": {},
   "outputs": [],
   "source": [
    "final"
   ]
  },
  {
   "cell_type": "code",
   "execution_count": null,
   "id": "959c81f7",
   "metadata": {},
   "outputs": [],
   "source": [
    "finalList = pd.DataFrame(final, columns = [\"자동차이름\",\"브랜드\",\"가격\",\"등급\",\"엔진\",\"연비\",\"이미지주소\"])"
   ]
  },
  {
   "cell_type": "code",
   "execution_count": null,
   "id": "db5118e3",
   "metadata": {},
   "outputs": [],
   "source": [
    "finalList"
   ]
  },
  {
   "cell_type": "code",
   "execution_count": null,
   "id": "5422631b",
   "metadata": {},
   "outputs": [],
   "source": [
    "finalList.to_csv(\"BMWLIST1.csv\")"
   ]
  },
  {
   "cell_type": "code",
   "execution_count": null,
   "id": "d76d298c",
   "metadata": {},
   "outputs": [],
   "source": [
    "len(finalList)"
   ]
  },
  {
   "cell_type": "code",
   "execution_count": null,
   "id": "d0cd0a67",
   "metadata": {},
   "outputs": [],
   "source": [
    "import cx_Oracle\n",
    "import os\n",
    "\n",
    "LOCATION = r\"C:\\instantclient_19_11\"\n",
    "os.environ[\"PATH\"]=LOCATION + \";\"+os.environ[\"PATH\"]"
   ]
  },
  {
   "cell_type": "code",
   "execution_count": null,
   "id": "0582df00",
   "metadata": {},
   "outputs": [],
   "source": [
    "connect = cx_Oracle.connect(\"HR\",\"1234\",\"localhost\")\n",
    "cursor = connect.cursor()"
   ]
  },
  {
   "cell_type": "code",
   "execution_count": null,
   "id": "41d7c6a7",
   "metadata": {},
   "outputs": [],
   "source": [
    "sql_str = 'SELECT * FROM product'\n",
    "cursor.execute(sql_str)\n",
    "rows = cursor.fetchall()"
   ]
  },
  {
   "cell_type": "code",
   "execution_count": null,
   "id": "0a62ccc2",
   "metadata": {},
   "outputs": [],
   "source": [
    "for row in rows:\n",
    "    sql = \"INSERT INTO product(productName,productBrand,productPrice,productGrade,productEngine,productImageSrc) VALUES(:carNameList, :carBrandList, :carPriceList, :carGradeList, :CarEngineList, carImageList)\"\n",
    "    cursor.execute(sql)"
   ]
  },
  {
   "cell_type": "code",
   "execution_count": null,
   "id": "54875e70",
   "metadata": {},
   "outputs": [],
   "source": [
    "cursor.close()\n",
    "connect.commit()\n",
    "connect.close()"
   ]
  },
  {
   "cell_type": "code",
   "execution_count": null,
   "id": "7636e461",
   "metadata": {},
   "outputs": [],
   "source": []
  },
  {
   "cell_type": "code",
   "execution_count": null,
   "id": "0f2eeabe",
   "metadata": {},
   "outputs": [],
   "source": []
  },
  {
   "cell_type": "code",
   "execution_count": null,
   "id": "b4864f0f",
   "metadata": {},
   "outputs": [],
   "source": []
  },
  {
   "cell_type": "code",
   "execution_count": null,
   "id": "3952b7fc",
   "metadata": {},
   "outputs": [],
   "source": []
  },
  {
   "cell_type": "code",
   "execution_count": null,
   "id": "f80f405d",
   "metadata": {},
   "outputs": [],
   "source": []
  },
  {
   "cell_type": "code",
   "execution_count": null,
   "id": "abfd0aff",
   "metadata": {},
   "outputs": [],
   "source": []
  },
  {
   "cell_type": "code",
   "execution_count": null,
   "id": "517b2d51",
   "metadata": {},
   "outputs": [],
   "source": []
  },
  {
   "cell_type": "code",
   "execution_count": null,
   "id": "4b0248b1",
   "metadata": {},
   "outputs": [],
   "source": []
  },
  {
   "cell_type": "code",
   "execution_count": null,
   "id": "abf7158d",
   "metadata": {},
   "outputs": [],
   "source": []
  },
  {
   "cell_type": "code",
   "execution_count": null,
   "id": "0c7abed9",
   "metadata": {},
   "outputs": [],
   "source": []
  },
  {
   "cell_type": "code",
   "execution_count": null,
   "id": "1189b957",
   "metadata": {},
   "outputs": [],
   "source": []
  },
  {
   "cell_type": "code",
   "execution_count": null,
   "id": "02b18649",
   "metadata": {},
   "outputs": [],
   "source": []
  },
  {
   "cell_type": "code",
   "execution_count": null,
   "id": "0436c0fd",
   "metadata": {},
   "outputs": [],
   "source": []
  },
  {
   "cell_type": "code",
   "execution_count": null,
   "id": "1ea7f2d8",
   "metadata": {},
   "outputs": [],
   "source": []
  },
  {
   "cell_type": "code",
   "execution_count": null,
   "id": "0fc8c130",
   "metadata": {},
   "outputs": [],
   "source": []
  },
  {
   "cell_type": "code",
   "execution_count": null,
   "id": "7a225b34",
   "metadata": {},
   "outputs": [],
   "source": [
    "#BMW\n",
    "html = urlopen(\"https://auto.naver.com/company/main.nhn?mnfcoNo=23&modelType=OS&order=0&importYn=Y&lnchYY=-1&saleType=0&page=1\")\n",
    "bsObject = BeautifulSoup(html,\"html.parser\")"
   ]
  },
  {
   "cell_type": "code",
   "execution_count": null,
   "id": "99ea16ac",
   "metadata": {},
   "outputs": [],
   "source": [
    "productUrlList=[] # 자동차 상세 사이트 Url List\n",
    "productUrl = bsObject.find_all(\"span\",{\"class\":\"thmb\"})\n",
    "for i in range(len(productUrl)):\n",
    "    productUrlList.append(\"https://auto.naver.com/\" + productUrl[i].find(\"a\").get(\"href\"))"
   ]
  },
  {
   "cell_type": "code",
   "execution_count": null,
   "id": "0bcc48ec",
   "metadata": {},
   "outputs": [],
   "source": [
    "# 이름 크롤링하기\n",
    "productNameList=[] # 자동차 이름 List\n",
    "for i in range(len(productUrlList)):\n",
    "    nameHtml = urlopen(productUrlList[i])\n",
    "    nameBsObject = BeautifulSoup(nameHtml,\"html.parser\")\n",
    "    productName = nameBsObject.find_all(\"div\",{\"class\":\"end_model\"})\n",
    "    productNameList.append(productName[0].find(\"h3\").text)"
   ]
  },
  {
   "cell_type": "code",
   "execution_count": null,
   "id": "4c40ee11",
   "metadata": {},
   "outputs": [],
   "source": [
    "# 브랜드 크롤링하기\n",
    "productBrandList=[] # 자동차 브랜드 List\n",
    "for i in range(len(productUrlList)):\n",
    "    brandHtml = urlopen(productUrlList[i])\n",
    "    brandBsObject = BeautifulSoup(brandHtml,\"html.parser\")\n",
    "    productBrand = brandBsObject.find(\"a\",{\"class\":\"brand\"}).text\n",
    "    productBrandList.append(productBrand)"
   ]
  },
  {
   "cell_type": "code",
   "execution_count": null,
   "id": "84fd782e",
   "metadata": {},
   "outputs": [],
   "source": [
    "# 출시가 크롤링하기\n",
    "productPriceList=[] # 자동차 출시가 List\n",
    "for i in range(len(productUrlList)):\n",
    "    priceHtml = urlopen(productUrlList[i])\n",
    "    priceBsObject = BeautifulSoup(priceHtml,\"html.parser\")\n",
    "    productPrice = priceBsObject.find_all(\"p\",{\"class\":\"price\"})\n",
    "    try:\n",
    "        productPrice = productPrice[0].find(\"span\",{\"class\":\"cont\"}).text\n",
    "    except:\n",
    "        productPrice = None\n",
    "    productPriceList.append(productPrice)"
   ]
  },
  {
   "cell_type": "code",
   "execution_count": null,
   "id": "c862762b",
   "metadata": {},
   "outputs": [],
   "source": [
    "# 등급 정하기\n",
    "# 2천만원 이하 D등급\n",
    "# 2~3천만원 사이 C등급\n",
    "# 3~4천만원 사이 B등급\n",
    "# 4천만원 이상 A등급\n",
    "productGradeList = []\n",
    "for i in range(len(productUrlList)):\n",
    "    try:\n",
    "        productGrade = productPriceList[i].replace(\",\",\"\")[0:4]\n",
    "    except:\n",
    "        productGrade = 0;\n",
    "    if int(productGrade) < 2000 :\n",
    "        productGradeList.append('D')\n",
    "    elif int(productGrade) >= 2000 and int(productGrade) < 3000:\n",
    "        productGradeList.append('C')\n",
    "    elif int(productGrade) >= 3000 and int(productGrade) < 4000:\n",
    "        productGradeList.append('B')\n",
    "    elif int(productGrade) >= 4000:\n",
    "        productGradeList.append('A')\n",
    "    else :\n",
    "        productGradeList.append('등급정보 없음')"
   ]
  },
  {
   "cell_type": "code",
   "execution_count": null,
   "id": "3998e9ed",
   "metadata": {},
   "outputs": [],
   "source": [
    "for i in range(len(productUrlList)):\n",
    "    productGrade = productPriceList[i].replace(\"억\",\"\")[0:4]"
   ]
  },
  {
   "cell_type": "code",
   "execution_count": null,
   "id": "a1c0a9b7",
   "metadata": {},
   "outputs": [],
   "source": [
    "# 엔진 종류 \n",
    "productEngineList=[]\n",
    "for i in range(len(productUrlList)):\n",
    "    engineHtml = urlopen(productUrlList[i])\n",
    "    engineBsObject = BeautifulSoup(engineHtml,\"html.parser\")\n",
    "    productEngine = engineBsObject.find_all(\"dl\",{\"class\":\"detail_lst\"})\n",
    "    productEngineList.append(productEngine[0].find_all(\"dd\")[1].text)"
   ]
  },
  {
   "cell_type": "code",
   "execution_count": null,
   "id": "bba73f04",
   "metadata": {},
   "outputs": [],
   "source": [
    "# 이미지 Src\n",
    "productImgSrcList=[]\n",
    "for i in range(len(productUrlList)):\n",
    "    imgSrcHtml = urlopen(productUrlList[i])\n",
    "    imgSrcBsObject = BeautifulSoup(imgSrcHtml,\"html.parser\")\n",
    "    productImgSrc = imgSrcBsObject.find_all(\"div\",{\"class\":\"main_img\"})\n",
    "    productImgSrc = productImgSrc[0].find(\"img\").get(\"src\")\n",
    "    productImgSrcList.append(productImgSrc)"
   ]
  },
  {
   "cell_type": "code",
   "execution_count": null,
   "id": "43c52d17",
   "metadata": {},
   "outputs": [],
   "source": [
    "# 연비\n",
    "productMileageList=[]\n",
    "for i in range(len(productUrlList)):\n",
    "    mileageHtml = urlopen(productUrlList[i])\n",
    "    mileageBsObject = BeautifulSoup(mileageHtml,\"html.parser\")\n",
    "    ProductMileage = mileageBsObject.find(\"dd\",{\"class\":\"en\"}).text\n",
    "    productMileageList.append(ProductMileage)"
   ]
  },
  {
   "cell_type": "code",
   "execution_count": null,
   "id": "9bbe286c",
   "metadata": {},
   "outputs": [],
   "source": [
    "arr=[]\n",
    "arr={\n",
    "    \"상품명\":productNameList,\n",
    "    \"브랜드명\":productBrandList,\n",
    "    \"가격\":productPriceList,\n",
    "\n",
    "    \"엔진 종류\":productEngineList,\n",
    "    \"이미지 Src\":productImgSrcList,\n",
    "    \"연비\":productMileageList\n",
    "}"
   ]
  },
  {
   "cell_type": "code",
   "execution_count": null,
   "id": "2628fa5b",
   "metadata": {},
   "outputs": [],
   "source": [
    "finalList = pd.DataFrame(arr, columns = [\"상품명\",\"브랜드명\",\"가격\",\"엔진 종류\",\"이미지 Src\",\"연비\"])\n",
    "finalList"
   ]
  },
  {
   "cell_type": "code",
   "execution_count": null,
   "id": "587d7ef7",
   "metadata": {},
   "outputs": [],
   "source": [
    "import cx_Oracle\n",
    "import os\n",
    "\n",
    "LOCATION = r\"C:\\instantclient_19_11\"\n",
    "os.environ[\"PATH\"]=LOCATION + \";\"+os.environ[\"PATH\"]\n",
    "\n",
    "connect = cx_Oracle.connect(\"HR\",\"1234\",\"localhost\")\n",
    "cursor = connect.cursor()\n",
    "\n"
   ]
  },
  {
   "cell_type": "code",
   "execution_count": null,
   "id": "cee6dd7a",
   "metadata": {
    "scrolled": true
   },
   "outputs": [],
   "source": [
    "for i in range(len(productNameList)):\n",
    "    sql = \"INSERT INTO product (PRODUCTNAME,PRODUCTBRAND,PRODUCTREGDATE,PRODUCTPRICE,PRODUCTENGINE,\\PRODUCTIMAGESRC) VALUES('\"+productNameList[i]+\"','\"+productBrandList[i]+\"',sysdate,'\"+productPriceList[i]+\"','\"+productEngineList[i]+\"','\"+productImgSrcList[i]+\"')\"\n",
    "\n",
    "    cursor.execute(sql)\n",
    "    cursor.close()\n",
    "    connect.commit()\n",
    "    connect.close()"
   ]
  },
  {
   "cell_type": "code",
   "execution_count": null,
   "id": "309b4372",
   "metadata": {},
   "outputs": [],
   "source": [
    "cursor.close()cursor.execute(sql)\n",
    "connect.commit()\n",
    "connect.close()"
   ]
  },
  {
   "cell_type": "code",
   "execution_count": null,
   "id": "aab48bc5",
   "metadata": {},
   "outputs": [],
   "source": []
  },
  {
   "cell_type": "code",
   "execution_count": null,
   "id": "82c4c8c4",
   "metadata": {},
   "outputs": [],
   "source": []
  },
  {
   "cell_type": "code",
   "execution_count": null,
   "id": "43996266",
   "metadata": {},
   "outputs": [],
   "source": [
    "connect = cx_Oracle.connect(\"HR\",\"1234\",\"localhost\")\n",
    "c = connect.cursor()\n",
    "\n",
    "c.execute('select * from product')\n",
    "c.fetchall()\n",
    "\n"
   ]
  },
  {
   "cell_type": "code",
   "execution_count": null,
   "id": "e96ea803",
   "metadata": {},
   "outputs": [],
   "source": [
    "c.close()\n",
    "connect.close()"
   ]
  },
  {
   "cell_type": "code",
   "execution_count": null,
   "id": "f9ff3d53",
   "metadata": {},
   "outputs": [],
   "source": []
  },
  {
   "cell_type": "code",
   "execution_count": null,
   "id": "f1626f97",
   "metadata": {},
   "outputs": [],
   "source": []
  },
  {
   "cell_type": "code",
   "execution_count": null,
   "id": "5620973e",
   "metadata": {},
   "outputs": [],
   "source": []
  },
  {
   "cell_type": "code",
   "execution_count": null,
   "id": "82ce8efc",
   "metadata": {},
   "outputs": [],
   "source": [
    "html = urlopen('https://www.saramin.co.kr/zf_user/jobs/hot100')\n",
    "bsObject = BeautifulSoup(html,\"html.parser\")"
   ]
  },
  {
   "cell_type": "code",
   "execution_count": null,
   "id": "5990fc6d",
   "metadata": {},
   "outputs": [],
   "source": [
    "jobTitleList = []\n",
    "jobTitle = bsObject.find_all(\"a\",{\"class\",\"tit\"})"
   ]
  },
  {
   "cell_type": "code",
   "execution_count": null,
   "id": "7532b431",
   "metadata": {},
   "outputs": [],
   "source": [
    "for i in range(len(jobTitle)):\n",
    "    newJobTitle = jobTitle[i].find(\"span\").text\n",
    "    jobTitleList.append(newJobTitle)"
   ]
  },
  {
   "cell_type": "code",
   "execution_count": null,
   "id": "3f8c9457",
   "metadata": {},
   "outputs": [],
   "source": [
    "jobTitleList"
   ]
  },
  {
   "cell_type": "code",
   "execution_count": null,
   "id": "79bad8c6",
   "metadata": {},
   "outputs": [],
   "source": [
    "arr = []\n",
    "arr = {\n",
    "    \"직업\":jobTitleList\n",
    "}"
   ]
  },
  {
   "cell_type": "code",
   "execution_count": null,
   "id": "ccfc4b66",
   "metadata": {},
   "outputs": [],
   "source": [
    "finalList = pd.DataFrame(arr, columns = [\"직업\"])"
   ]
  },
  {
   "cell_type": "code",
   "execution_count": null,
   "id": "560800d9",
   "metadata": {},
   "outputs": [],
   "source": [
    "finalList"
   ]
  },
  {
   "cell_type": "code",
   "execution_count": null,
   "id": "a2e299fe",
   "metadata": {},
   "outputs": [],
   "source": [
    "import cx_Oracle\n",
    "import os\n",
    "\n",
    "LOCATION = r\"C:\\instantclient_19_11\"\n",
    "os.environ[\"PATH\"]=LOCATION + \";\"+os.environ[\"PATH\"]"
   ]
  },
  {
   "cell_type": "code",
   "execution_count": null,
   "id": "48041743",
   "metadata": {},
   "outputs": [],
   "source": [
    "connect = cx_Oracle.connect(\"HR\",\"1234\",\"localhost\")\n",
    "cursor = connect.cursor()"
   ]
  },
  {
   "cell_type": "code",
   "execution_count": null,
   "id": "4750d671",
   "metadata": {},
   "outputs": [],
   "source": [
    "for i in range(len(jobTitleList)):\n",
    "    sql = \"INSERT INTO job_list(job_name) VALUES('\"+jobTitleList[i]+\"')\"\n",
    "    cursor.execute(sql)"
   ]
  },
  {
   "cell_type": "code",
   "execution_count": null,
   "id": "1e8b2634",
   "metadata": {},
   "outputs": [],
   "source": [
    "    cursor.close()\n",
    "    connect.commit()\n",
    "    connect.close()"
   ]
  },
  {
   "cell_type": "code",
   "execution_count": null,
   "id": "a378d0af",
   "metadata": {},
   "outputs": [],
   "source": []
  },
  {
   "cell_type": "code",
   "execution_count": null,
   "id": "2f3bfccb",
   "metadata": {},
   "outputs": [],
   "source": [
    "html = urlopen('https://www.aladin.co.kr/shop/common/wbest.aspx?BranchType=1')\n",
    "bsObject = BeautifulSoup(html,\"html.parser\")"
   ]
  },
  {
   "cell_type": "code",
   "execution_count": null,
   "id": "5cceb6b6",
   "metadata": {},
   "outputs": [],
   "source": [
    "bookImageList = []\n",
    "bookImage = bsObject.find_all(\"img\",{\"class\":\"i_cover\"})"
   ]
  },
  {
   "cell_type": "code",
   "execution_count": null,
   "id": "c09160f1",
   "metadata": {},
   "outputs": [],
   "source": [
    "for i in range(len(bookImage)):\n",
    "    newBookImage = bookImage[i].get(\"src\")\n",
    "    bookImageList.append(newBookImage)"
   ]
  },
  {
   "cell_type": "code",
   "execution_count": null,
   "id": "c2bf806a",
   "metadata": {},
   "outputs": [],
   "source": [
    "bookImageList"
   ]
  },
  {
   "cell_type": "code",
   "execution_count": null,
   "id": "5bfc3806",
   "metadata": {},
   "outputs": [],
   "source": [
    "nameHtml = urlopen('https://www.aladin.co.kr/shop/common/wbest.aspx?BranchType=1')\n",
    "nameBsObject = BeautifulSoup(nameHtml,\"html.parser\")"
   ]
  },
  {
   "cell_type": "code",
   "execution_count": null,
   "id": "b6b83aa1",
   "metadata": {},
   "outputs": [],
   "source": [
    "bookNameList = []\n",
    "bookName = nameBsObject.find_all(\"a\",{\"class\":\"bo3\"})"
   ]
  },
  {
   "cell_type": "code",
   "execution_count": null,
   "id": "37be007c",
   "metadata": {},
   "outputs": [],
   "source": [
    "bookName"
   ]
  },
  {
   "cell_type": "code",
   "execution_count": null,
   "id": "da71ab4b",
   "metadata": {},
   "outputs": [],
   "source": [
    "for i in range(len(bookName)):\n",
    "    newBookName = bookName[i].find(\"b\").text\n",
    "    newBookName = newBookName.replace(\" \",\"\")\n",
    "    bookNameList.append(newBookName)"
   ]
  },
  {
   "cell_type": "code",
   "execution_count": null,
   "id": "d20f0a59",
   "metadata": {},
   "outputs": [],
   "source": [
    "bookNameList"
   ]
  },
  {
   "cell_type": "code",
   "execution_count": null,
   "id": "ceb88dba",
   "metadata": {},
   "outputs": [],
   "source": [
    "# bookNameList\n",
    "nameHtml = urlopen('https://www.aladin.co.kr/shop/common/wbest.aspx?BranchType=1&start=we')\n",
    "nameBsObject = BeautifulSoup(nameHtml,\"html.parser\")\n",
    "\n",
    "bookNameList = []\n",
    "bookName = nameBsObject.find_all(\"a\",{\"class\":\"bo3\"})\n",
    "\n",
    "for i in range(len(bookName)):\n",
    "    newBookName = bookName[i].find(\"b\").text\n",
    "    newBookName = newBookName.replace(\" \",\"\")\n",
    "    bookNameList.append(newBookName)"
   ]
  },
  {
   "cell_type": "code",
   "execution_count": null,
   "id": "27f7732a",
   "metadata": {},
   "outputs": [],
   "source": [
    "# 크롤링 라이브러리 임포트\n",
    "from urllib.request import urlopen\n",
    "from bs4 import BeautifulSoup\n",
    "import pandas as pd\n",
    "\n",
    "# bookImageSrcList\n",
    "html = urlopen('https://www.aladin.co.kr/shop/common/wbest.aspx?BranchType=1&start=we')\n",
    "bsObject = BeautifulSoup(html,\"html.parser\")\n",
    "\n",
    "bookImageList = []\n",
    "bookImage = bsObject.find_all(\"img\",{\"class\":\"i_cover\"})\n",
    "\n",
    "for i in range(len(bookImage)):\n",
    "    newBookImage = bookImage[i].get(\"src\")\n",
    "    bookImageList.append(newBookImage)\n",
    "    \n",
    "# bookNameList\n",
    "nameHtml = urlopen('https://www.aladin.co.kr/shop/common/wbest.aspx?BranchType=1&start=we')\n",
    "nameBsObject = BeautifulSoup(nameHtml,\"html.parser\")\n",
    "\n",
    "bookNameList = []\n",
    "bookName = nameBsObject.find_all(\"a\",{\"class\":\"bo3\"})\n",
    "\n",
    "for i in range(len(bookName)):\n",
    "    newBookName = bookName[i].find(\"b\").text\n",
    "    newBookName = newBookName.replace(\" \",\"\")\n",
    "    bookNameList.append(newBookName)"
   ]
  },
  {
   "cell_type": "code",
   "execution_count": null,
   "id": "d61a087b",
   "metadata": {},
   "outputs": [],
   "source": [
    "arr = []\n",
    "arr = {\n",
    "    \"도서명\":bookNameList,\n",
    "    \"도서 이미지주소\":bookImageList\n",
    "}"
   ]
  },
  {
   "cell_type": "code",
   "execution_count": null,
   "id": "9432e040",
   "metadata": {},
   "outputs": [],
   "source": [
    "finalList = pd.DataFrame(arr, columns = [\"도서명\",\"도서 이미지 주소\"])"
   ]
  },
  {
   "cell_type": "code",
   "execution_count": null,
   "id": "05cda910",
   "metadata": {},
   "outputs": [],
   "source": [
    "finalList"
   ]
  },
  {
   "cell_type": "code",
   "execution_count": null,
   "id": "fed90e7c",
   "metadata": {},
   "outputs": [],
   "source": [
    "# 크롤링 라이브러리 임포트\n",
    "from urllib.request import urlopen\n",
    "from bs4 import BeautifulSoup\n",
    "import pandas as pd\n",
    "\n",
    "# bookImageSrcList\n",
    "html = urlopen('https://www.aladin.co.kr/shop/common/wbest.aspx?BranchType=1&start=we')\n",
    "bsObject = BeautifulSoup(html,\"html.parser\")\n",
    "\n",
    "bookImageList = []\n",
    "bookImage = bsObject.find_all(\"img\",{\"class\":\"i_cover\"})\n",
    "\n",
    "for i in range(len(bookImage)):\n",
    "    newBookImage = bookImage[i].get(\"src\")\n",
    "    bookImageList.append(newBookImage)\n",
    "    \n",
    "# bookNameList\n",
    "nameHtml = urlopen('https://www.aladin.co.kr/shop/common/wbest.aspx?BranchType=1&start=we')\n",
    "nameBsObject = BeautifulSoup(nameHtml,\"html.parser\")\n",
    "\n",
    "bookNameList = []\n",
    "bookName = nameBsObject.find_all(\"a\",{\"class\":\"bo3\"})\n",
    "\n",
    "for i in range(len(bookName)):\n",
    "    newBookName = bookName[i].find(\"b\").text\n",
    "    newBookName = newBookName.replace(\" \",\"\")\n",
    "    bookNameList.append(newBookName)\n",
    "\n",
    "arr=[]\n",
    "arr={\"도서명\":bookNameList,\"도서 이미지 주소\":bookImageList}\n",
    "\n",
    "finalList = pd.DataFrame(arr, columns = [\"도서명\",\"도서 이미지 주소\"])"
   ]
  },
  {
   "cell_type": "code",
   "execution_count": null,
   "id": "c3fbd119",
   "metadata": {},
   "outputs": [],
   "source": [
    "finalList"
   ]
  },
  {
   "cell_type": "code",
   "execution_count": null,
   "id": "505d6f25",
   "metadata": {},
   "outputs": [],
   "source": [
    "finalList.to_csv(\"bookList.csv\")"
   ]
  },
  {
   "cell_type": "code",
   "execution_count": null,
   "id": "578bceda",
   "metadata": {},
   "outputs": [],
   "source": [
    "import cx_Oracle\n",
    "import os\n",
    "\n",
    "LOCATION = r\"C:\\instantclient_19_11\"\n",
    "os.environ[\"PATH\"]=LOCATION + \";\"+os.environ[\"PATH\"]"
   ]
  },
  {
   "cell_type": "code",
   "execution_count": null,
   "id": "106ec50b",
   "metadata": {},
   "outputs": [],
   "source": [
    "connect = cx_Oracle.connect(\"HR\",\"1234\",\"localhost\")\n",
    "cursor = connect.cursor()"
   ]
  },
  {
   "cell_type": "code",
   "execution_count": null,
   "id": "d459aafa",
   "metadata": {},
   "outputs": [],
   "source": [
    "for i in range(len(bookNameList)):\n",
    "    sql = \"INSERT INTO example(bookName,bookUrl) VALUES('\"+bookNameList[i]+\"','\"+bookImageList[i]+\"')\"\n",
    "    cursor.execute(sql)"
   ]
  },
  {
   "cell_type": "code",
   "execution_count": null,
   "id": "47a3f647",
   "metadata": {},
   "outputs": [],
   "source": [
    "cursor.close()\n",
    "connect.commit()\n",
    "connect.close()"
   ]
  },
  {
   "cell_type": "code",
   "execution_count": null,
   "id": "f21afa48",
   "metadata": {},
   "outputs": [],
   "source": []
  },
  {
   "cell_type": "code",
   "execution_count": null,
   "id": "a88b4b11",
   "metadata": {},
   "outputs": [],
   "source": []
  },
  {
   "cell_type": "code",
   "execution_count": null,
   "id": "af5edbe7",
   "metadata": {},
   "outputs": [],
   "source": []
  },
  {
   "cell_type": "code",
   "execution_count": null,
   "id": "24288293",
   "metadata": {},
   "outputs": [],
   "source": []
  },
  {
   "cell_type": "code",
   "execution_count": null,
   "id": "e2261630",
   "metadata": {},
   "outputs": [],
   "source": [
    "url = urlopen('https://www.naver.com/')\n",
    "bsObject = BeautifulSoup(url, \"html.parser\")\n",
    "\n",
    "mList = bsObject.find_all(\"a\",{\"class\":\"nav\"})\n",
    "print(mList,'\\n',len(mList))\n",
    "\n",
    "for i in range(len(mList)):\n",
    "    print(mList[i].text)"
   ]
  },
  {
   "cell_type": "code",
   "execution_count": null,
   "id": "1c33885f",
   "metadata": {
    "scrolled": true
   },
   "outputs": [],
   "source": [
    "nList = bsObject.find_all(\"a\",{\"class\":\"thumb\"})\n",
    "print(nList,'\\n',len(nList))"
   ]
  },
  {
   "cell_type": "code",
   "execution_count": null,
   "id": "6003fc6e",
   "metadata": {},
   "outputs": [],
   "source": [
    "newList = [] # ArrayList랑 똑같은 기능\n",
    "for i in range(len(nList)):\n",
    "    newList.append(nList[i].find(\"img\")[\"alt\"]) # List에 추가하는 기능\n",
    "    \n",
    "print(newList) # 새로운 List 출력"
   ]
  },
  {
   "cell_type": "code",
   "execution_count": null,
   "id": "6b4e9996",
   "metadata": {},
   "outputs": [],
   "source": [
    "urlA = urlopen('https://www.aladin.co.kr/shop/common/wbest.aspx?BranchType=1&start=we')\n",
    "bsObject = BeautifulSoup(urlA, \"html.parser\")\n",
    "\n",
    "aList = bsObject.find_all(\"div\",{\"class\":\"ss_book_list\"})\n",
    "print(aList, len(aList))"
   ]
  },
  {
   "cell_type": "code",
   "execution_count": null,
   "id": "8a86aca3",
   "metadata": {
    "scrolled": true
   },
   "outputs": [],
   "source": [
    "newList = []\n",
    "for i in range(len(aList)):\n",
    "    newList.append(aList[i].find(\"b\"))\n",
    "print(newList)"
   ]
  },
  {
   "cell_type": "code",
   "execution_count": null,
   "id": "32032b2e",
   "metadata": {},
   "outputs": [],
   "source": [
    "bList = bsObject.find_all(\"img\",{\"class\":\"i_cover\"})\n",
    "print(bList, len(bList))"
   ]
  },
  {
   "cell_type": "code",
   "execution_count": null,
   "id": "3cee7d02",
   "metadata": {},
   "outputs": [],
   "source": [
    "newList = []\n",
    "for i in range(len(bList)):\n",
    "    newList.append(bList[i].find(\"src\"))\n",
    "print(newList)"
   ]
  }
 ],
 "metadata": {
  "kernelspec": {
   "display_name": "Python 3",
   "language": "python",
   "name": "python3"
  },
  "language_info": {
   "codemirror_mode": {
    "name": "ipython",
    "version": 3
   },
   "file_extension": ".py",
   "mimetype": "text/x-python",
   "name": "python",
   "nbconvert_exporter": "python",
   "pygments_lexer": "ipython3",
   "version": "3.8.8"
  }
 },
 "nbformat": 4,
 "nbformat_minor": 5
}
