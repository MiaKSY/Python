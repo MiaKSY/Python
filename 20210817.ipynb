{
 "cells": [
  {
   "cell_type": "code",
   "execution_count": null,
   "id": "2bfffad2",
   "metadata": {},
   "outputs": [],
   "source": [
    "[문항1] 빅데이타 분석 시스템을 설계하고 분석하는 과정에서 데이타 처리를 위한 이해를 위해\n",
    "아래 코드를 분석한 결과를 작성한다.\n",
    "\n",
    "다음 코드의 실행 결과는? (10점)\n",
    "\n",
    "alist = [\"A\",\"B\",\"C\"]\n",
    "blist = [\"ㄱ\",\"ㄴ\",\"ㄷ\"]\n",
    "result = []\n",
    "\n",
    "for a, b in enumerate(zip(alist, blist)):\n",
    "    try:\n",
    "        result.append(b[a])\n",
    "    except IndexError:\n",
    "        result.append(\"Error\")\n",
    "\n",
    "print(result)"
   ]
  },
  {
   "cell_type": "code",
   "execution_count": null,
   "id": "0d9e107d",
   "metadata": {},
   "outputs": [],
   "source": [
    "답안 : \n",
    "['A', 'ㄴ', 'Error']\n",
    "\n",
    "풀이 : \n",
    "zip() 함수 이용, 튜플 상태에서\n",
    "('A', 'ㄱ')[0] => 'A'\n",
    "('B', 'ㄴ')[1] => 'ㄴ'\n",
    "('C', 'ㄷ')[2] => 'Error'  (튜플의 인덱스는 0, 1)\n",
    "리스트.append() 적용해서\n",
    "=> ['A', 'ㄴ', 'Error']"
   ]
  },
  {
   "cell_type": "code",
   "execution_count": null,
   "id": "c68e388e",
   "metadata": {},
   "outputs": [],
   "source": []
  },
  {
   "cell_type": "code",
   "execution_count": null,
   "id": "6908e7ee",
   "metadata": {},
   "outputs": [],
   "source": []
  },
  {
   "cell_type": "code",
   "execution_count": null,
   "id": "8ca24cc0",
   "metadata": {},
   "outputs": [],
   "source": [
    "[문항2] 다음 코드의 실행 결과는? (10점)\n",
    "\n",
    "def sum_data( data_a, data_b ):\n",
    "    for i in data_a:\n",
    "        for j in data_b:\n",
    "            result = i + j\n",
    "        return result\n",
    "\n",
    "a=[1,2]\n",
    "b=[3,4]\n",
    "print(sum_data(a,b))"
   ]
  },
  {
   "cell_type": "code",
   "execution_count": null,
   "id": "aabcec16",
   "metadata": {},
   "outputs": [],
   "source": [
    "답안 : 5\n",
    "\n",
    "풀이 : \n",
    "함수 sum_data 의 return이 두번째 for 문의 끝에 있어서\n",
    "i = 1 이고, j = 4 와 5 일 때는 함수를 수행하지만\n",
    "i = 2 이기 전에 return 이 나와서 그 부분은 수행하지 않는다.\n",
    "\n",
    "가장 마지막 i + j = 1 + 4 = 5 이다."
   ]
  },
  {
   "cell_type": "code",
   "execution_count": null,
   "id": "c21d745d",
   "metadata": {},
   "outputs": [],
   "source": []
  },
  {
   "cell_type": "code",
   "execution_count": null,
   "id": "1a45c495",
   "metadata": {},
   "outputs": [],
   "source": []
  },
  {
   "cell_type": "code",
   "execution_count": null,
   "id": "67b8054f",
   "metadata": {},
   "outputs": [],
   "source": [
    "[문항3] 다음과 같이 동작하는 클래스를 작성한다 (20점)\n",
    "\n",
    ">>>cal = Calculator([1,2,3,4,5])\n",
    ">>>cal.sum()\n",
    "15\n",
    ">>>cal.avg()\n",
    "3.0"
   ]
  },
  {
   "cell_type": "code",
   "execution_count": null,
   "id": "5e3f8546",
   "metadata": {},
   "outputs": [],
   "source": [
    "class Calculator:\n",
    "\n",
    "    num = []\n",
    "\n",
    "    def __init__(self, num):\n",
    "        self.num = num\n",
    "\n",
    "    def sum(self):\n",
    "        print(sum(self.num))\n",
    "\n",
    "    def avg(self):\n",
    "        print(sum(self.num)/len(self.num))\n",
    "\n",
    "\n",
    "cal = Calculator([1, 2, 3, 4, 5])\n",
    "\n",
    "cal.sum()\n",
    "cal.avg()"
   ]
  },
  {
   "cell_type": "code",
   "execution_count": null,
   "id": "6f1a3800",
   "metadata": {},
   "outputs": [],
   "source": []
  },
  {
   "cell_type": "code",
   "execution_count": null,
   "id": "001f7c87",
   "metadata": {},
   "outputs": [],
   "source": []
  },
  {
   "cell_type": "code",
   "execution_count": null,
   "id": "c48b92ab",
   "metadata": {},
   "outputs": [],
   "source": [
    "[문항4] 국어, 영어, 수학 점수를 입력받아 총점과 평균를 구하여 출력한다 (20점)\n",
    "\n",
    "국어점수를 입력->80\n",
    "영어점수를 입력->88\n",
    "수학점수를 입력->77\n",
    "총점 -> xxxx\n",
    "평균 -> xxxx"
   ]
  },
  {
   "cell_type": "code",
   "execution_count": null,
   "id": "0765bffa",
   "metadata": {},
   "outputs": [],
   "source": [
    "kor = input('국어점수를 입력->')\n",
    "eng = input('영어점수를 입력->')\n",
    "math = input('수학점수를 입력->')\n",
    "\n",
    "print('총점->', int(kor)+int(eng)+int(math))\n",
    "print('평균->', (int(kor)+int(eng)+int(math))/3)"
   ]
  },
  {
   "cell_type": "code",
   "execution_count": null,
   "id": "4220023d",
   "metadata": {},
   "outputs": [],
   "source": []
  },
  {
   "cell_type": "code",
   "execution_count": null,
   "id": "422db880",
   "metadata": {},
   "outputs": [],
   "source": []
  },
  {
   "cell_type": "code",
   "execution_count": null,
   "id": "e5057f4f",
   "metadata": {},
   "outputs": [],
   "source": [
    "[문항5] 금지어 단어가 포함되어 있는 문자를 감별하는 프로그램을 작성한다. (20점)\n",
    "금지어는 별표(*)로 바꾸어 출력한다.\n",
    "\n",
    "    [실행결과]\n",
    "    문자열을 입력 : I love coffee and study java and python\n",
    "    금지어를 입력 : java C linux\n",
    "    결과 : I love coffee and study **** and python\n"
   ]
  },
  {
   "cell_type": "code",
   "execution_count": null,
   "id": "12a46a50",
   "metadata": {},
   "outputs": [],
   "source": [
    "goodWord = input('문자열을 입력 : ').split(\" \")\n",
    "badWord = input('금지어를 입력 : ').split(\" \")\n",
    "\n",
    "for i in range(len(goodWord)):\n",
    "    for j in range(len(badWord)):\n",
    "        if goodWord[i] == badWord[j]:\n",
    "            goodWord[i] = '*'*len(badWord[j])\n",
    "\n",
    "newWord = ''\n",
    "for i in range(len(goodWord)):\n",
    "    newWord += goodWord[i] + ' '\n",
    "\n",
    "print('결과 :', newWord)"
   ]
  },
  {
   "cell_type": "code",
   "execution_count": null,
   "id": "4409cbda",
   "metadata": {},
   "outputs": [],
   "source": []
  },
  {
   "cell_type": "code",
   "execution_count": null,
   "id": "a87c7171",
   "metadata": {},
   "outputs": [],
   "source": []
  },
  {
   "cell_type": "code",
   "execution_count": null,
   "id": "ee7103df",
   "metadata": {},
   "outputs": [],
   "source": [
    "[문항6] 학생들의 성적이 score.txt 파일에 저장되어 있다.\n",
    "이 성적을 읽어서 평균값을 구하고 다시 파일의 끝에 추가로 저장한다. (20점)\n",
    "\n",
    "    [ score.txt ]  ==========>    [ score.txt ]\n",
    "    99.1                                    99.1\n",
    "    88.2                                    88.2\n",
    "    77.3                                    77.3\n",
    "    66.4                                    66.4\n",
    "                                            평균값 : xxx.xx"
   ]
  },
  {
   "cell_type": "code",
   "execution_count": null,
   "id": "1ab86108",
   "metadata": {},
   "outputs": [],
   "source": [
    "from pathlib import Path\n",
    "\n",
    "try:\n",
    "    with open('score.txt', 'r', encoding='utf-8') as f:\n",
    "        contents = f.read()\n",
    "        words = contents.split()\n",
    "        num = len(words)\n",
    "except FileNotFoundError:\n",
    "    print('파일이 존재하지 않음')\n",
    "else:\n",
    "    sum = 0\n",
    "    avg = 0\n",
    "    for i in range(len(words)):\n",
    "        sum += float(words[i])\n",
    "        avg = sum / len(words)\n",
    "    result = contents + '\\n' + '평균값 : ' + str(avg)\n",
    "    print(result)\n",
    "\n",
    "\n",
    "newF = Path('score.txt')\n",
    "newF.write_text(result, encoding='utf-8')"
   ]
  },
  {
   "cell_type": "code",
   "execution_count": null,
   "id": "19fe9b10",
   "metadata": {},
   "outputs": [],
   "source": []
  }
 ],
 "metadata": {
  "kernelspec": {
   "display_name": "Python 3",
   "language": "python",
   "name": "python3"
  },
  "language_info": {
   "codemirror_mode": {
    "name": "ipython",
    "version": 3
   },
   "file_extension": ".py",
   "mimetype": "text/x-python",
   "name": "python",
   "nbconvert_exporter": "python",
   "pygments_lexer": "ipython3",
   "version": "3.8.8"
  }
 },
 "nbformat": 4,
 "nbformat_minor": 5
}
