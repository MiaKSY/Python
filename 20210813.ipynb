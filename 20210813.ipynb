{
 "cells": [
  {
   "cell_type": "code",
   "execution_count": 1,
   "id": "e64dfd5b",
   "metadata": {},
   "outputs": [
    {
     "name": "stdout",
     "output_type": "stream",
     "text": [
      "정수를 입력하세요 : 5\n",
      "정수를 입력하세요 : 6\n",
      "정수를 입력하세요 : 45\n",
      "정수를 입력하세요 : 32\n",
      "정수를 입력하세요 : 9\n",
      "평균 = 19.4\n"
     ]
    }
   ],
   "source": [
    "# 1번\n",
    "\n",
    "aList = []\n",
    "aList.append(input(\"정수를 입력하세요 : \"))\n",
    "aList.append(input(\"정수를 입력하세요 : \"))\n",
    "aList.append(input(\"정수를 입력하세요 : \"))\n",
    "aList.append(input(\"정수를 입력하세요 : \"))\n",
    "aList.append(input(\"정수를 입력하세요 : \"))\n",
    "\n",
    "sum = 0\n",
    "for i in range(len(aList)):\n",
    "   sum += int(aList[i])\n",
    "print(\"평균 =\", sum/len(aList))"
   ]
  },
  {
   "cell_type": "code",
   "execution_count": 2,
   "id": "de779610",
   "metadata": {},
   "outputs": [
    {
     "name": "stdout",
     "output_type": "stream",
     "text": [
      "문자열입력안녕하세요~\n",
      "~요세하녕안\n"
     ]
    }
   ],
   "source": [
    "# 2번\n",
    "\n",
    "message = input(\"문자열입력\")\n",
    "\n",
    "aList = []\n",
    "for i in range(len(message)):\n",
    "    aList.append(message[i])\n",
    "    \n",
    "newMessage = \"\"\n",
    "for i in range(len(aList)):\n",
    "    newMessage += aList.pop()\n",
    "print(newMessage)"
   ]
  },
  {
   "cell_type": "code",
   "execution_count": 3,
   "id": "8f7a53e0",
   "metadata": {},
   "outputs": [
    {
     "name": "stdout",
     "output_type": "stream",
     "text": [
      "정수 리스트 입력 : 2 5 9 4 3\n",
      "평균 : 4.6\n",
      "표준편차 : 2.70\n"
     ]
    }
   ],
   "source": [
    "# 3번\n",
    "# input() 사용시, 공백을 기준으로 여러개의 입력값을 받고 싶을 때, input().split()을 사용한다. 자동으로 리스트 형태로 저장된다.\n",
    "\n",
    "aList = input(\"정수 리스트 입력 : \").split()\n",
    "\n",
    "# 합 구하기\n",
    "sum = 0\n",
    "for i in range(len(aList)):\n",
    "    sum += int(aList[i])\n",
    "\n",
    "# 평균 구하기    \n",
    "avg = sum / len(aList)\n",
    "print(\"평균 :\", avg)\n",
    "\n",
    "# (각각의 값-평균)들의 제곱의 합 구하기\n",
    "sumForMinOfAvgs = 0\n",
    "for i in range(len(aList)):\n",
    "    sumForMinOfAvgs += (avg - int(aList[i])) ** 2\n",
    "\n",
    "# 분산 구하기\n",
    "var = sumForMinOfAvgs / (len(aList)-1)\n",
    "\n",
    "# 표준편차 구하기\n",
    "sd = var ** 0.5\n",
    "\n",
    "# 구한 표준편차 소숫점 둘째 자리까지\n",
    "print('표준편차 : %0.2f' %(sd))"
   ]
  },
  {
   "cell_type": "code",
   "execution_count": 5,
   "id": "e7d6267c",
   "metadata": {},
   "outputs": [
    {
     "name": "stdout",
     "output_type": "stream",
     "text": [
      "문자열을 입력하시오 : HELLO\n",
      "43556"
     ]
    }
   ],
   "source": [
    "# 4번\n",
    "\n",
    "message = input(\"문자열을 입력하시오 : \")\n",
    "\n",
    "for i in range(len(message)):\n",
    "    if message[i] == 'A' or message[i] == 'B' or message[i] == 'C':\n",
    "        print(2, end=\"\")\n",
    "    elif message[i] == 'D' or message[i] == 'E' or message[i] == 'F':\n",
    "        print(3, end=\"\")\n",
    "    elif message[i] == 'G' or message[i] == 'H' or message[i] == 'I':\n",
    "        print(4, end=\"\")\n",
    "    elif message[i] == 'J' or message[i] == 'K' or message[i] == 'L':\n",
    "        print(5, end=\"\")\n",
    "    elif message[i] == 'M' or message[i] == 'N' or message[i] == 'O':\n",
    "        print(6, end=\"\")\n",
    "    elif message[i] == 'P' or message[i] == 'Q' or message[i] == 'R' or message[i] == 'S':\n",
    "        print(7, end=\"\")\n",
    "    elif message[i] == 'T' or message[i] == 'U' or message[i] == 'V':\n",
    "        print(8, end=\"\")\n",
    "    elif message[i] == 'W' or message[i] == 'X' or message[i] == 'Y' or message[i] == 'Z':\n",
    "        print(9)\n",
    "    else:\n",
    "        print(\"\", end=\"\")"
   ]
  },
  {
   "cell_type": "code",
   "execution_count": null,
   "id": "3f542c2f",
   "metadata": {},
   "outputs": [],
   "source": []
  }
 ],
 "metadata": {
  "kernelspec": {
   "display_name": "Python 3",
   "language": "python",
   "name": "python3"
  },
  "language_info": {
   "codemirror_mode": {
    "name": "ipython",
    "version": 3
   },
   "file_extension": ".py",
   "mimetype": "text/x-python",
   "name": "python",
   "nbconvert_exporter": "python",
   "pygments_lexer": "ipython3",
   "version": "3.8.8"
  }
 },
 "nbformat": 4,
 "nbformat_minor": 5
}
