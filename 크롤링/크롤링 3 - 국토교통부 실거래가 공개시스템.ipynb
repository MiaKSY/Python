{
 "cells": [
  {
   "cell_type": "markdown",
   "metadata": {},
   "source": [
    "# 날짜 구하기"
   ]
  },
  {
   "cell_type": "code",
   "execution_count": 11,
   "metadata": {},
   "outputs": [],
   "source": [
    "import datetime\n",
    "from datetime import timedelta"
   ]
  },
  {
   "cell_type": "code",
   "execution_count": 16,
   "metadata": {},
   "outputs": [
    {
     "data": {
      "text/plain": [
       "datetime.date(2024, 9, 20)"
      ]
     },
     "execution_count": 16,
     "metadata": {},
     "output_type": "execute_result"
    }
   ],
   "source": [
    "# 오늘 날짜\n",
    "today = datetime.date.today()\n",
    "today"
   ]
  },
  {
   "cell_type": "code",
   "execution_count": 17,
   "metadata": {},
   "outputs": [
    {
     "data": {
      "text/plain": [
       "'2024-09-19'"
      ]
     },
     "execution_count": 17,
     "metadata": {},
     "output_type": "execute_result"
    }
   ],
   "source": [
    "# 어제 날짜\n",
    "yesterday = today - timedelta(days=1)\n",
    "yesterday.strftime(\"%Y-%m-%d\")"
   ]
  },
  {
   "cell_type": "markdown",
   "metadata": {},
   "source": [
    "# 기본 코드"
   ]
  },
  {
   "cell_type": "code",
   "execution_count": 19,
   "metadata": {},
   "outputs": [],
   "source": [
    "from selenium import webdriver\n",
    "from selenium.webdriver.common.by import By\n",
    "from selenium.webdriver.chrome.service import Service\n",
    "from webdriver_manager.chrome import ChromeDriverManager\n",
    "\n",
    "from selenium.webdriver.common.keys import Keys\n",
    "import time\n",
    "\n",
    "driver = webdriver.Chrome(service= Service(ChromeDriverManager().install()))\n",
    "url = \"https://rt.molit.go.kr/pt/xls/xls.do?mobileAt=\"\n",
    "\n",
    "driver.get(url)\n",
    "\n",
    "# 계약일자 시작 조건 설정\n",
    "\n",
    "actions = driver.find_element(By.XPATH, '//*[@id=\"srhFromDt\"]')\n",
    "\n",
    "time.sleep(1)\n",
    "actions.send_keys(Keys.LEFT)\n",
    "\n",
    "time.sleep(1)\n",
    "actions.send_keys(yesterday.strftime(\"%Y\"))\n",
    "\n",
    "time.sleep(1)\n",
    "actions.send_keys(Keys.RIGHT)\n",
    "\n",
    "time.sleep(1)\n",
    "actions.send_keys(yesterday.strftime(\"%m\"))\n",
    "\n",
    "time.sleep(1)\n",
    "actions.send_keys(Keys.RIGHT)\n",
    "\n",
    "time.sleep(1)\n",
    "actions.send_keys(yesterday.strftime(\"%d\"))\n",
    "\n",
    "# 계약일자 종료 조건 설정\n",
    "\n",
    "actions = driver.find_element(By.XPATH, '//*[@id=\"srhToDt\"]')\n",
    "\n",
    "time.sleep(1)\n",
    "actions.send_keys(Keys.LEFT)\n",
    "\n",
    "time.sleep(1)\n",
    "actions.send_keys(yesterday.strftime(\"%Y\"))\n",
    "\n",
    "time.sleep(1)\n",
    "actions.send_keys(Keys.RIGHT)\n",
    "\n",
    "time.sleep(1)\n",
    "actions.send_keys(yesterday.strftime(\"%m\"))\n",
    "\n",
    "time.sleep(1)\n",
    "actions.send_keys(Keys.RIGHT)\n",
    "\n",
    "time.sleep(1)\n",
    "actions.send_keys(yesterday.strftime(\"%d\"))\n",
    "\n",
    "# 엑셀 다운로드\n",
    "actions = driver.find_element(By.XPATH, '//*[@id=\"frm_xls\"]/div[2]/div[2]/div[6]/button[1]')\n",
    "actions.click()\n",
    "\n",
    "#Chrome 종료\n",
    "driver.close()"
   ]
  },
  {
   "cell_type": "markdown",
   "metadata": {},
   "source": [
    "# 확장 코드"
   ]
  },
  {
   "cell_type": "code",
   "execution_count": 21,
   "metadata": {},
   "outputs": [],
   "source": [
    "from selenium import webdriver\n",
    "from selenium.webdriver.common.by import By\n",
    "from selenium.webdriver.chrome.service import Service\n",
    "from webdriver_manager.chrome import ChromeDriverManager\n",
    "\n",
    "from selenium.webdriver.common.keys import Keys\n",
    "import time\n",
    "import os\n",
    "\n",
    "driver = webdriver.Chrome(service= Service(ChromeDriverManager().install()))\n",
    "url = \"https://rt.molit.go.kr/pt/xls/xls.do?mobileAt=\"\n",
    "\n",
    "driver.get(url)\n",
    "\n",
    "# 계약일자 시작 조건 설정\n",
    "\n",
    "actions = driver.find_element(By.XPATH, '//*[@id=\"srhFromDt\"]')\n",
    "\n",
    "time.sleep(1)\n",
    "actions.send_keys(Keys.LEFT)\n",
    "\n",
    "time.sleep(1)\n",
    "actions.send_keys(yesterday.strftime(\"%Y\"))\n",
    "\n",
    "time.sleep(1)\n",
    "actions.send_keys(Keys.RIGHT)\n",
    "\n",
    "time.sleep(1)\n",
    "actions.send_keys(yesterday.strftime(\"%m\"))\n",
    "\n",
    "time.sleep(1)\n",
    "actions.send_keys(Keys.RIGHT)\n",
    "\n",
    "time.sleep(1)\n",
    "actions.send_keys(yesterday.strftime(\"%d\"))\n",
    "\n",
    "# 계약일자 종료 조건 설정\n",
    "\n",
    "actions = driver.find_element(By.XPATH, '//*[@id=\"srhToDt\"]')\n",
    "\n",
    "time.sleep(1)\n",
    "actions.send_keys(Keys.LEFT)\n",
    "\n",
    "time.sleep(1)\n",
    "actions.send_keys(yesterday.strftime(\"%Y\"))\n",
    "\n",
    "time.sleep(1)\n",
    "actions.send_keys(Keys.RIGHT)\n",
    "\n",
    "time.sleep(1)\n",
    "actions.send_keys(yesterday.strftime(\"%m\"))\n",
    "\n",
    "time.sleep(1)\n",
    "actions.send_keys(Keys.RIGHT)\n",
    "\n",
    "time.sleep(1)\n",
    "actions.send_keys(yesterday.strftime(\"%d\"))\n",
    "\n",
    "# 파일 다운로드 패스 지정\n",
    "time.sleep(1)\n",
    "downloadPath = \"/Users/sungyeon/python_project/크롤링\".format(os.getlogin())\n",
    "params = {'behavior': 'allow', 'downloadPath': downloadPath}\n",
    "driver.execute_cdp_cmd('Page.setDownloadBehavior', params)\n",
    "\n",
    "# 엑셀 다운로드\n",
    "time.sleep(1)\n",
    "actions = driver.find_element(By.XPATH, '//*[@id=\"frm_xls\"]/div[2]/div[2]/div[6]/button[1]')\n",
    "actions.click()\n",
    "\n",
    "#Chrome 종료\n",
    "time.sleep(2)\n",
    "driver.close()"
   ]
  }
 ],
 "metadata": {
  "kernelspec": {
   "display_name": ".venv",
   "language": "python",
   "name": "python3"
  },
  "language_info": {
   "codemirror_mode": {
    "name": "ipython",
    "version": 3
   },
   "file_extension": ".py",
   "mimetype": "text/x-python",
   "name": "python",
   "nbconvert_exporter": "python",
   "pygments_lexer": "ipython3",
   "version": "3.9.6"
  }
 },
 "nbformat": 4,
 "nbformat_minor": 2
}
