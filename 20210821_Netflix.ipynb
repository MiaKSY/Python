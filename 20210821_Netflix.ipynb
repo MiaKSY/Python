{
 "cells": [
  {
   "cell_type": "code",
   "execution_count": null,
   "id": "7baf17ce",
   "metadata": {},
   "outputs": [],
   "source": [
    "# 크롤링 라이브러리 임포트\n",
    "from urllib.request import urlopen\n",
    "from bs4 import BeautifulSoup\n",
    "import pandas as pd"
   ]
  },
  {
   "cell_type": "code",
   "execution_count": null,
   "id": "3c8bf9c3",
   "metadata": {},
   "outputs": [],
   "source": [
    "html = urlopen(\"https://flixpatrol.com/top10/netflix/world/longest-legs/\")\n",
    "bsObject = BeautifulSoup(html, \"html.parser\")"
   ]
  },
  {
   "cell_type": "code",
   "execution_count": null,
   "id": "476e910c",
   "metadata": {},
   "outputs": [],
   "source": []
  },
  {
   "cell_type": "code",
   "execution_count": null,
   "id": "c2fc5a99",
   "metadata": {},
   "outputs": [],
   "source": [
    "bsObject.find_all(\"tr\",{\"class\":\"table-group\"})"
   ]
  },
  {
   "cell_type": "code",
   "execution_count": null,
   "id": "9cc0099b",
   "metadata": {},
   "outputs": [],
   "source": [
    "titleList = bsObject.find_all(\"tr\",{\"class\":\"table-group\"})"
   ]
  },
  {
   "cell_type": "code",
   "execution_count": null,
   "id": "5f8d6be1",
   "metadata": {},
   "outputs": [],
   "source": [
    "len(titleList)"
   ]
  },
  {
   "cell_type": "code",
   "execution_count": null,
   "id": "620d8169",
   "metadata": {},
   "outputs": [],
   "source": []
  },
  {
   "cell_type": "code",
   "execution_count": null,
   "id": "5f30efdb",
   "metadata": {
    "scrolled": true
   },
   "outputs": [],
   "source": [
    "titleList[0].find('div').find('img').get(\"alt\")"
   ]
  },
  {
   "cell_type": "code",
   "execution_count": null,
   "id": "ddd42c40",
   "metadata": {},
   "outputs": [],
   "source": [
    "newTitleList = []\n",
    "for i in range(len(titleList)):\n",
    "    testTitleList = titleList[i].find('div').find('img').get(\"alt\")\n",
    "    newTitleList.append(testTitleList)"
   ]
  },
  {
   "cell_type": "code",
   "execution_count": null,
   "id": "e91fdf24",
   "metadata": {},
   "outputs": [],
   "source": [
    "newTitleList"
   ]
  },
  {
   "cell_type": "code",
   "execution_count": null,
   "id": "c55a75ec",
   "metadata": {},
   "outputs": [],
   "source": [
    "len(newTitleList)"
   ]
  },
  {
   "cell_type": "code",
   "execution_count": null,
   "id": "9d95ffef",
   "metadata": {},
   "outputs": [],
   "source": []
  },
  {
   "cell_type": "code",
   "execution_count": null,
   "id": "3aa0b442",
   "metadata": {},
   "outputs": [],
   "source": [
    "titleList[0].find('td',{\"class\",\"table-td w-24 text-right text-gray-400 font-semibold whitespace-nowrap\"}).text.replace(\" days\",\"\")"
   ]
  },
  {
   "cell_type": "code",
   "execution_count": null,
   "id": "9eb298d4",
   "metadata": {},
   "outputs": [],
   "source": [
    "newDayList = []\n",
    "for i in range(len(titleList)):\n",
    "    testDayList = titleList[i].find('td',{\"class\",\"table-td w-24 text-right text-gray-400 font-semibold whitespace-nowrap\"}).text.replace(\" days\",\"\")\n",
    "    newDayList.append(testDayList)"
   ]
  },
  {
   "cell_type": "code",
   "execution_count": null,
   "id": "bce509bb",
   "metadata": {},
   "outputs": [],
   "source": [
    "newDayList"
   ]
  },
  {
   "cell_type": "code",
   "execution_count": null,
   "id": "ac0ad348",
   "metadata": {},
   "outputs": [],
   "source": [
    "len(newDayList)"
   ]
  },
  {
   "cell_type": "code",
   "execution_count": null,
   "id": "d368be19",
   "metadata": {},
   "outputs": [],
   "source": []
  },
  {
   "cell_type": "code",
   "execution_count": null,
   "id": "26bda4ca",
   "metadata": {},
   "outputs": [],
   "source": [
    "final = []\n",
    "final = {\n",
    "    \"name\":newTitleList,\n",
    "    \"days\":newDayList\n",
    "}"
   ]
  },
  {
   "cell_type": "code",
   "execution_count": null,
   "id": "640d47ee",
   "metadata": {},
   "outputs": [],
   "source": [
    "final"
   ]
  },
  {
   "cell_type": "code",
   "execution_count": null,
   "id": "16c5f3f6",
   "metadata": {},
   "outputs": [],
   "source": [
    "finalList = pd.DataFrame(final, columns = [\"name\",\"days\"])"
   ]
  },
  {
   "cell_type": "code",
   "execution_count": null,
   "id": "00ed2463",
   "metadata": {},
   "outputs": [],
   "source": [
    "finalList"
   ]
  },
  {
   "cell_type": "code",
   "execution_count": null,
   "id": "ab883b4f",
   "metadata": {},
   "outputs": [],
   "source": []
  },
  {
   "cell_type": "code",
   "execution_count": null,
   "id": "b42ce286",
   "metadata": {},
   "outputs": [],
   "source": [
    "finalList.to_csv(\"NetflixTop10.csv\",index=False)"
   ]
  },
  {
   "cell_type": "code",
   "execution_count": null,
   "id": "2ec13a17",
   "metadata": {},
   "outputs": [],
   "source": []
  }
 ],
 "metadata": {
  "kernelspec": {
   "display_name": "Python 3",
   "language": "python",
   "name": "python3"
  },
  "language_info": {
   "codemirror_mode": {
    "name": "ipython",
    "version": 3
   },
   "file_extension": ".py",
   "mimetype": "text/x-python",
   "name": "python",
   "nbconvert_exporter": "python",
   "pygments_lexer": "ipython3",
   "version": "3.8.8"
  }
 },
 "nbformat": 4,
 "nbformat_minor": 5
}
