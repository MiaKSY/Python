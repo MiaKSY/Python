{
 "cells": [
  {
   "cell_type": "code",
   "execution_count": null,
   "id": "bec22fb2",
   "metadata": {},
   "outputs": [],
   "source": [
    "# 크롤링 라이브러리 임포트\n",
    "from urllib.request import urlopen\n",
    "from bs4 import BeautifulSoup\n",
    "import pandas as pd"
   ]
  },
  {
   "cell_type": "code",
   "execution_count": null,
   "id": "2f3bfccb",
   "metadata": {},
   "outputs": [],
   "source": [
    "html = urlopen('https://www.aladin.co.kr/shop/common/wbest.aspx?BranchType=1')\n",
    "bsObject = BeautifulSoup(html,\"html.parser\")"
   ]
  },
  {
   "cell_type": "code",
   "execution_count": null,
   "id": "5cceb6b6",
   "metadata": {},
   "outputs": [],
   "source": [
    "bookImageList = []\n",
    "bookImage = bsObject.find_all(\"img\",{\"class\":\"i_cover\"})"
   ]
  },
  {
   "cell_type": "code",
   "execution_count": null,
   "id": "c09160f1",
   "metadata": {},
   "outputs": [],
   "source": [
    "for i in range(len(bookImage)):\n",
    "    newBookImage = bookImage[i].get(\"src\")\n",
    "    bookImageList.append(newBookImage)"
   ]
  },
  {
   "cell_type": "code",
   "execution_count": null,
   "id": "c2bf806a",
   "metadata": {},
   "outputs": [],
   "source": [
    "bookImageList"
   ]
  },
  {
   "cell_type": "code",
   "execution_count": null,
   "id": "5bfc3806",
   "metadata": {},
   "outputs": [],
   "source": [
    "nameHtml = urlopen('https://www.aladin.co.kr/shop/common/wbest.aspx?BranchType=1')\n",
    "nameBsObject = BeautifulSoup(nameHtml,\"html.parser\")"
   ]
  },
  {
   "cell_type": "code",
   "execution_count": null,
   "id": "b6b83aa1",
   "metadata": {},
   "outputs": [],
   "source": [
    "bookNameList = []\n",
    "bookName = nameBsObject.find_all(\"a\",{\"class\":\"bo3\"})"
   ]
  },
  {
   "cell_type": "code",
   "execution_count": null,
   "id": "37be007c",
   "metadata": {},
   "outputs": [],
   "source": [
    "bookName"
   ]
  },
  {
   "cell_type": "code",
   "execution_count": null,
   "id": "da71ab4b",
   "metadata": {},
   "outputs": [],
   "source": [
    "for i in range(len(bookName)):\n",
    "    newBookName = bookName[i].find(\"b\").text\n",
    "    newBookName = newBookName.replace(\" \",\"\")\n",
    "    bookNameList.append(newBookName)"
   ]
  },
  {
   "cell_type": "code",
   "execution_count": null,
   "id": "d20f0a59",
   "metadata": {},
   "outputs": [],
   "source": [
    "bookNameList"
   ]
  },
  {
   "cell_type": "code",
   "execution_count": null,
   "id": "ceb88dba",
   "metadata": {},
   "outputs": [],
   "source": [
    "# bookNameList\n",
    "nameHtml = urlopen('https://www.aladin.co.kr/shop/common/wbest.aspx?BranchType=1&start=we')\n",
    "nameBsObject = BeautifulSoup(nameHtml,\"html.parser\")\n",
    "\n",
    "bookNameList = []\n",
    "bookName = nameBsObject.find_all(\"a\",{\"class\":\"bo3\"})\n",
    "\n",
    "for i in range(len(bookName)):\n",
    "    newBookName = bookName[i].find(\"b\").text\n",
    "    newBookName = newBookName.replace(\" \",\"\")\n",
    "    bookNameList.append(newBookName)"
   ]
  },
  {
   "cell_type": "code",
   "execution_count": null,
   "id": "27f7732a",
   "metadata": {},
   "outputs": [],
   "source": [
    "# 크롤링 라이브러리 임포트\n",
    "from urllib.request import urlopen\n",
    "from bs4 import BeautifulSoup\n",
    "import pandas as pd\n",
    "\n",
    "# bookImageSrcList\n",
    "html = urlopen('https://www.aladin.co.kr/shop/common/wbest.aspx?BranchType=1&start=we')\n",
    "bsObject = BeautifulSoup(html,\"html.parser\")\n",
    "\n",
    "bookImageList = []\n",
    "bookImage = bsObject.find_all(\"img\",{\"class\":\"i_cover\"})\n",
    "\n",
    "for i in range(len(bookImage)):\n",
    "    newBookImage = bookImage[i].get(\"src\")\n",
    "    bookImageList.append(newBookImage)\n",
    "    \n",
    "# bookNameList\n",
    "nameHtml = urlopen('https://www.aladin.co.kr/shop/common/wbest.aspx?BranchType=1&start=we')\n",
    "nameBsObject = BeautifulSoup(nameHtml,\"html.parser\")\n",
    "\n",
    "bookNameList = []\n",
    "bookName = nameBsObject.find_all(\"a\",{\"class\":\"bo3\"})\n",
    "\n",
    "for i in range(len(bookName)):\n",
    "    newBookName = bookName[i].find(\"b\").text\n",
    "    newBookName = newBookName.replace(\" \",\"\")\n",
    "    bookNameList.append(newBookName)"
   ]
  },
  {
   "cell_type": "code",
   "execution_count": null,
   "id": "d61a087b",
   "metadata": {},
   "outputs": [],
   "source": [
    "arr = []\n",
    "arr = {\n",
    "    \"도서명\":bookNameList,\n",
    "    \"도서 이미지주소\":bookImageList\n",
    "}"
   ]
  },
  {
   "cell_type": "code",
   "execution_count": null,
   "id": "9432e040",
   "metadata": {},
   "outputs": [],
   "source": [
    "finalList = pd.DataFrame(arr, columns = [\"도서명\",\"도서 이미지 주소\"])"
   ]
  },
  {
   "cell_type": "code",
   "execution_count": null,
   "id": "05cda910",
   "metadata": {},
   "outputs": [],
   "source": [
    "finalList"
   ]
  },
  {
   "cell_type": "code",
   "execution_count": null,
   "id": "fed90e7c",
   "metadata": {},
   "outputs": [],
   "source": [
    "# 크롤링 라이브러리 임포트\n",
    "from urllib.request import urlopen\n",
    "from bs4 import BeautifulSoup\n",
    "import pandas as pd\n",
    "\n",
    "# bookImageSrcList\n",
    "html = urlopen('https://www.aladin.co.kr/shop/common/wbest.aspx?BranchType=1&start=we')\n",
    "bsObject = BeautifulSoup(html,\"html.parser\")\n",
    "\n",
    "bookImageList = []\n",
    "bookImage = bsObject.find_all(\"img\",{\"class\":\"i_cover\"})\n",
    "\n",
    "for i in range(len(bookImage)):\n",
    "    newBookImage = bookImage[i].get(\"src\")\n",
    "    bookImageList.append(newBookImage)\n",
    "    \n",
    "# bookNameList\n",
    "nameHtml = urlopen('https://www.aladin.co.kr/shop/common/wbest.aspx?BranchType=1&start=we')\n",
    "nameBsObject = BeautifulSoup(nameHtml,\"html.parser\")\n",
    "\n",
    "bookNameList = []\n",
    "bookName = nameBsObject.find_all(\"a\",{\"class\":\"bo3\"})\n",
    "\n",
    "for i in range(len(bookName)):\n",
    "    newBookName = bookName[i].find(\"b\").text\n",
    "    newBookName = newBookName.replace(\" \",\"\")\n",
    "    bookNameList.append(newBookName)\n",
    "\n",
    "arr=[]\n",
    "arr={\"도서명\":bookNameList,\"도서 이미지 주소\":bookImageList}\n",
    "\n",
    "finalList = pd.DataFrame(arr, columns = [\"도서명\",\"도서 이미지 주소\"])"
   ]
  },
  {
   "cell_type": "code",
   "execution_count": null,
   "id": "c3fbd119",
   "metadata": {},
   "outputs": [],
   "source": [
    "finalList"
   ]
  },
  {
   "cell_type": "code",
   "execution_count": null,
   "id": "505d6f25",
   "metadata": {},
   "outputs": [],
   "source": [
    "finalList.to_csv(\"bookList.csv\")"
   ]
  },
  {
   "cell_type": "code",
   "execution_count": null,
   "id": "578bceda",
   "metadata": {},
   "outputs": [],
   "source": [
    "import cx_Oracle\n",
    "import os\n",
    "\n",
    "LOCATION = r\"C:\\instantclient_19_11\"\n",
    "os.environ[\"PATH\"]=LOCATION + \";\"+os.environ[\"PATH\"]"
   ]
  },
  {
   "cell_type": "code",
   "execution_count": null,
   "id": "106ec50b",
   "metadata": {},
   "outputs": [],
   "source": [
    "connect = cx_Oracle.connect(\"HR\",\"1234\",\"localhost\")\n",
    "cursor = connect.cursor()"
   ]
  },
  {
   "cell_type": "code",
   "execution_count": null,
   "id": "d459aafa",
   "metadata": {},
   "outputs": [],
   "source": [
    "for i in range(len(bookNameList)):\n",
    "    sql = \"INSERT INTO example(bookName,bookUrl) VALUES('\"+bookNameList[i]+\"','\"+bookImageList[i]+\"')\"\n",
    "    cursor.execute(sql)"
   ]
  },
  {
   "cell_type": "code",
   "execution_count": null,
   "id": "47a3f647",
   "metadata": {},
   "outputs": [],
   "source": [
    "cursor.close()\n",
    "connect.commit()\n",
    "connect.close()"
   ]
  },
  {
   "cell_type": "code",
   "execution_count": null,
   "id": "f21afa48",
   "metadata": {},
   "outputs": [],
   "source": []
  },
  {
   "cell_type": "code",
   "execution_count": null,
   "id": "a88b4b11",
   "metadata": {},
   "outputs": [],
   "source": []
  },
  {
   "cell_type": "code",
   "execution_count": null,
   "id": "af5edbe7",
   "metadata": {},
   "outputs": [],
   "source": []
  },
  {
   "cell_type": "code",
   "execution_count": null,
   "id": "24288293",
   "metadata": {},
   "outputs": [],
   "source": []
  },
  {
   "cell_type": "code",
   "execution_count": null,
   "id": "e2261630",
   "metadata": {},
   "outputs": [],
   "source": [
    "url = urlopen('https://www.naver.com/')\n",
    "bsObject = BeautifulSoup(url, \"html.parser\")\n",
    "\n",
    "mList = bsObject.find_all(\"a\",{\"class\":\"nav\"})\n",
    "print(mList,'\\n',len(mList))\n",
    "\n",
    "for i in range(len(mList)):\n",
    "    print(mList[i].text)"
   ]
  },
  {
   "cell_type": "code",
   "execution_count": null,
   "id": "1c33885f",
   "metadata": {
    "scrolled": true
   },
   "outputs": [],
   "source": [
    "nList = bsObject.find_all(\"a\",{\"class\":\"thumb\"})\n",
    "print(nList,'\\n',len(nList))"
   ]
  },
  {
   "cell_type": "code",
   "execution_count": null,
   "id": "6003fc6e",
   "metadata": {},
   "outputs": [],
   "source": [
    "newList = [] # ArrayList랑 똑같은 기능\n",
    "for i in range(len(nList)):\n",
    "    newList.append(nList[i].find(\"img\")[\"alt\"]) # List에 추가하는 기능\n",
    "    \n",
    "print(newList) # 새로운 List 출력"
   ]
  },
  {
   "cell_type": "code",
   "execution_count": null,
   "id": "6b4e9996",
   "metadata": {},
   "outputs": [],
   "source": [
    "urlA = urlopen('https://www.aladin.co.kr/shop/common/wbest.aspx?BranchType=1&start=we')\n",
    "bsObject = BeautifulSoup(urlA, \"html.parser\")\n",
    "\n",
    "aList = bsObject.find_all(\"div\",{\"class\":\"ss_book_list\"})\n",
    "print(aList, len(aList))"
   ]
  },
  {
   "cell_type": "code",
   "execution_count": null,
   "id": "8a86aca3",
   "metadata": {
    "scrolled": true
   },
   "outputs": [],
   "source": [
    "newList = []\n",
    "for i in range(len(aList)):\n",
    "    newList.append(aList[i].find(\"b\"))\n",
    "print(newList)"
   ]
  },
  {
   "cell_type": "code",
   "execution_count": null,
   "id": "32032b2e",
   "metadata": {},
   "outputs": [],
   "source": [
    "bList = bsObject.find_all(\"img\",{\"class\":\"i_cover\"})\n",
    "print(bList, len(bList))"
   ]
  },
  {
   "cell_type": "code",
   "execution_count": null,
   "id": "3cee7d02",
   "metadata": {},
   "outputs": [],
   "source": [
    "newList = []\n",
    "for i in range(len(bList)):\n",
    "    newList.append(bList[i].find(\"src\"))\n",
    "print(newList)"
   ]
  }
 ],
 "metadata": {
  "kernelspec": {
   "display_name": "Python 3",
   "language": "python",
   "name": "python3"
  },
  "language_info": {
   "codemirror_mode": {
    "name": "ipython",
    "version": 3
   },
   "file_extension": ".py",
   "mimetype": "text/x-python",
   "name": "python",
   "nbconvert_exporter": "python",
   "pygments_lexer": "ipython3",
   "version": "3.8.8"
  }
 },
 "nbformat": 4,
 "nbformat_minor": 5
}
