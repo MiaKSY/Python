{
 "cells": [
  {
   "cell_type": "code",
   "execution_count": null,
   "id": "4fbe992e",
   "metadata": {},
   "outputs": [],
   "source": [
    "# [ 파이썬 ] 자료구조 연습문제 답안"
   ]
  },
  {
   "cell_type": "code",
   "execution_count": null,
   "id": "508db36c",
   "metadata": {},
   "outputs": [],
   "source": [
    "1. [1, 3, 4, 5]\n",
    "2. \n",
    "(가) Stack\n",
    "(나) Queue\n",
    "(다) Tuple\n",
    "(라) Set\n",
    "3. False\n",
    "4. 2019\n",
    "5. [1, 2, 3, 4, 5, 6]\n",
    "6. 4\n",
    "7. {4: 'ant', 'ant': 6, 0: 'snake', 2: 'monkey', 8: 'spider'}\n",
    "8. 10\n",
    "9. [0, 1, 2, 3, 4, 5, 6, 7, 8, 9]\n",
    "10.\n",
    "(1,)\n",
    "[1]\n",
    "error\n",
    "error\n",
    "a\n",
    "a"
   ]
  },
  {
   "cell_type": "code",
   "execution_count": null,
   "id": "f74fe82d",
   "metadata": {},
   "outputs": [],
   "source": [
    "# [ 파이썬 ] 자료구조 연습문제"
   ]
  },
  {
   "cell_type": "code",
   "execution_count": null,
   "id": "bc3134c8",
   "metadata": {},
   "outputs": [],
   "source": [
    "list_1 = [0, 3, 1, 7, 5, 0, 5, 8, 0, 4]\n",
    "def quiz_2(list_data):\n",
    "    a = set(list_data)\n",
    "    print(a)\n",
    "    return list(a)[1:5]\n",
    "\n",
    "quiz_2(list_1)"
   ]
  },
  {
   "cell_type": "code",
   "execution_count": null,
   "id": "cafdfcf9",
   "metadata": {},
   "outputs": [],
   "source": [
    "(가) Stack\n",
    "(나) Queue : 선착순\n",
    "(다) Tuple\n",
    "(라) Set"
   ]
  },
  {
   "cell_type": "code",
   "execution_count": null,
   "id": "73329cc2",
   "metadata": {},
   "outputs": [],
   "source": [
    "def  delete_a_list_element(list_data, element_value):\n",
    "\tif element_value in list_data:\n",
    "\t\tlist_data.remove(element_value)\n",
    "\t\treturn list_data\n",
    "\telse:\n",
    "\t\treturn \"False\"\n",
    "    \n",
    "list_data = ['a', 1, 'gachon', '2016.0']\n",
    "element = float(2016)\n",
    "print(element)\n",
    "print(list_data)\n",
    "print(element in list_data)\n",
    "result = delete_a_list_element(list_data, element)\n",
    "print(result)\n",
    "# 문자열이고! 실수형! 자료형이 달라서 다른 것이다."
   ]
  },
  {
   "cell_type": "code",
   "execution_count": null,
   "id": "a035e8a6",
   "metadata": {},
   "outputs": [],
   "source": [
    "a = [3, \"apple\", 2016, 4]\n",
    "b = a.pop(0)\n",
    "c = a.pop(1)\n",
    "print(b + c)"
   ]
  },
  {
   "cell_type": "code",
   "execution_count": null,
   "id": "9cd38946",
   "metadata": {},
   "outputs": [],
   "source": [
    "tuple_1 = (1, 2, 3)\n",
    "tuple_2 = (4, 5, 6)\n",
    "def quiz_1(data_1, data_2):\n",
    "\tresult = []\n",
    "\tfor i in (tuple_1 + tuple_2):\n",
    "\t\tresult.append(i)\n",
    "\treturn result\n",
    "\n",
    "print(quiz_1(tuple_1, tuple_2))"
   ]
  },
  {
   "cell_type": "code",
   "execution_count": null,
   "id": "0be3c2a8",
   "metadata": {},
   "outputs": [],
   "source": [
    "dict_1 = {2:1, 4:2, 6:3, 8:4, 10:6}\n",
    "dict_keys = list(dict_1.keys())\n",
    "dict_values = list(dict_1.values())\n",
    "dict_2 = dict()\n",
    "for i in range(len(dict_keys)):\n",
    "\tdict_2[dict_values[i]] = dict_keys[i]\n",
    "\n",
    "print(dict_2[2])"
   ]
  },
  {
   "cell_type": "code",
   "execution_count": null,
   "id": "c9409847",
   "metadata": {},
   "outputs": [],
   "source": [
    "animal = ['cat', 'snake', 'monkey', 'ant', 'spider'] \n",
    "legs= [4, 0, 2, 4, 8]\n",
    "animal_legs_dict = {}\n",
    "for i in range(len(animal)):\n",
    "\tanimal_legs_dict[legs[i]] = animal[i]\n",
    "\tanimal_legs_dict['ant'] = 6\n",
    "\n",
    "print(animal_legs_dict)\n",
    "\n",
    "# 동일한 키가 두개일 수는 없다.\n",
    "# 뒤에 들어간 것으로 덮어 들어간다.\n",
    "# 키의 순서가 보장이 되지는 않는다."
   ]
  },
  {
   "cell_type": "code",
   "execution_count": null,
   "id": "4e5787fd",
   "metadata": {},
   "outputs": [],
   "source": [
    "Mydict = {'1' : 1, '2' : 2}\n",
    "Copy = Mydict\n",
    "Mydict['1'] = 5\n",
    "result= Mydict['1'] + Copy['1']\n",
    "print(result)\n",
    "\n",
    "# 객체의 얕은 복사이기 때문에 같은 주솟값을 가지고 있다."
   ]
  },
  {
   "cell_type": "code",
   "execution_count": null,
   "id": "e3e0004a",
   "metadata": {},
   "outputs": [],
   "source": [
    "a = list(range(10))\n",
    "a.append(a[3])\n",
    "a.pop(a[3])\n",
    "a.insert(3, a[-1])\n",
    "a.pop( )\n",
    "print(a)\n",
    "\n",
    "# pop : 마지막에 들어간 애를 뺀다. 진짜 마지막으로 들어간 거 말고, 위치적으로 마지막이다. "
   ]
  },
  {
   "cell_type": "code",
   "execution_count": null,
   "id": "585a3a06",
   "metadata": {},
   "outputs": [],
   "source": [
    "range(10)"
   ]
  },
  {
   "cell_type": "code",
   "execution_count": null,
   "id": "27536120",
   "metadata": {
    "scrolled": true
   },
   "outputs": [],
   "source": [
    "data_1 = {'one' : (1,2,3,4,5,6), 'two' : [1,2,3,4,5,6], 'three' : {'four' : 4, 'five' : 5}}\n",
    "\n",
    "for k in ['one','two','three']:\n",
    "\ttry:\n",
    "\t\tprint(data_1[k][:1])\n",
    "\texcept TypeError:\n",
    "\t\tprint(\"error\")\n",
    "        \n",
    "# 인덱스를 셀 수 없는 dictionary 형태        \n",
    "\n",
    "print(\"======================\")        \n",
    "        \n",
    "for k in ['one', 'two','three']:\n",
    "\ttry:\n",
    "\t\tdata_1[k][-1] = \"a\"\n",
    "\t\tprint(data_1[k][-1])\n",
    "\texcept TypeError :\n",
    "\t\tprint(\"error\")\n",
    "        \n",
    "# 튜플은 값 변경이 되지 않는다.\n",
    "# try - except 문을 사용하여서 컴파일 오류는 나지 않았다.\n",
    "\n",
    "print(\"======================\")    \n",
    "\n",
    "print(data_1)\n",
    "\n",
    "# 튜플은 원본 수정이 불가능하고, \n",
    "# 딕셔너리는 해당하는 키가 존재하지 않으면 바로 키:밸류가 추가가 된다."
   ]
  },
  {
   "cell_type": "code",
   "execution_count": null,
   "id": "476e5039",
   "metadata": {},
   "outputs": [],
   "source": []
  },
  {
   "cell_type": "code",
   "execution_count": null,
   "id": "fe3e75f3",
   "metadata": {},
   "outputs": [],
   "source": []
  },
  {
   "cell_type": "code",
   "execution_count": null,
   "id": "8b755190",
   "metadata": {},
   "outputs": [],
   "source": [
    "# [ 파이썬 ] 모듈과 패키지 연습문제"
   ]
  },
  {
   "cell_type": "code",
   "execution_count": null,
   "id": "e8c110d7",
   "metadata": {},
   "outputs": [],
   "source": [
    "1. ③\n",
    "2. ③\n",
    "3. import fah_converter as fah\n",
    "4. ②\n",
    "5. from calculator import *"
   ]
  },
  {
   "cell_type": "code",
   "execution_count": null,
   "id": "320ef664",
   "metadata": {},
   "outputs": [],
   "source": []
  },
  {
   "cell_type": "code",
   "execution_count": null,
   "id": "b0bd403b",
   "metadata": {},
   "outputs": [],
   "source": []
  },
  {
   "cell_type": "code",
   "execution_count": null,
   "id": "832f5a45",
   "metadata": {},
   "outputs": [],
   "source": []
  }
 ],
 "metadata": {
  "kernelspec": {
   "display_name": "Python 3",
   "language": "python",
   "name": "python3"
  },
  "language_info": {
   "codemirror_mode": {
    "name": "ipython",
    "version": 3
   },
   "file_extension": ".py",
   "mimetype": "text/x-python",
   "name": "python",
   "nbconvert_exporter": "python",
   "pygments_lexer": "ipython3",
   "version": "3.8.8"
  }
 },
 "nbformat": 4,
 "nbformat_minor": 5
}
